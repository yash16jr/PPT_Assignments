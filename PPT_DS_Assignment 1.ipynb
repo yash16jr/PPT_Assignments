{
 "cells": [
  {
   "cell_type": "markdown",
   "id": "139503e3",
   "metadata": {},
   "source": [
    "# Ques1. \n",
    "Write a Python program to reverse a string without using any built-in string reversal functions."
   ]
  },
  {
   "cell_type": "code",
   "execution_count": 1,
   "id": "67b3e9ad",
   "metadata": {},
   "outputs": [],
   "source": [
    "def reverseString(s):\n",
    "    reversedStr = s[::-1]\n",
    "    return reversedStr"
   ]
  },
  {
   "cell_type": "code",
   "execution_count": 2,
   "id": "07e72e7f",
   "metadata": {},
   "outputs": [],
   "source": [
    "s = \"Hello, World!\"\n",
    "reversedString = reverseString(s)\n",
    "print(reversedString)"
   ]
  },
  {
   "cell_type": "markdown",
   "id": "ae49a23d",
   "metadata": {},
   "source": [
    "# Ques2.\n",
    "Implement a function to check if a given string is a palindrome."
   ]
  },
  {
   "cell_type": "code",
   "execution_count": 3,
   "id": "c9145bd8",
   "metadata": {},
   "outputs": [],
   "source": [
    "def is_palindrome(s):\n",
    "    chars = list(s)\n",
    "    left = 0\n",
    "    right = len(chars)-1\n",
    "        \n",
    "        \n",
    "    while left < right:\n",
    "        if chars[left] == chars[right]:\n",
    "            left += 1\n",
    "            right -= 1\n",
    "            \n",
    "        \n",
    "        else :\n",
    "            return False\n",
    "        \n",
    "    return True   "
   ]
  },
  {
   "cell_type": "code",
   "execution_count": 4,
   "id": "d74e72ea",
   "metadata": {},
   "outputs": [],
   "source": [
    "is_palindrome('tqqqt')"
   ]
  },
  {
   "cell_type": "markdown",
   "id": "ebfa65ce",
   "metadata": {},
   "source": [
    "# Ques3.\n",
    "Write a program to find the largest element in a given list."
   ]
  },
  {
   "cell_type": "code",
   "execution_count": 5,
   "id": "11afe6e6",
   "metadata": {},
   "outputs": [],
   "source": [
    "def largest_element(lst):\n",
    "    if not lst:\n",
    "        return None\n",
    "\n",
    "    largest = lst[0]\n",
    "\n",
    "    for num in lst:\n",
    "        if num > largest:\n",
    "            largest = num\n",
    "\n",
    "    return largest\n"
   ]
  },
  {
   "cell_type": "code",
   "execution_count": 6,
   "id": "3be1a10a",
   "metadata": {},
   "outputs": [],
   "source": [
    "largest_element([2,3,6,4,8,4])"
   ]
  },
  {
   "cell_type": "markdown",
   "id": "6cdf9a36",
   "metadata": {},
   "source": [
    "# Ques4. \n",
    "Implement a function to count the occurrence of each element in a list.\n"
   ]
  },
  {
   "cell_type": "code",
   "execution_count": 7,
   "id": "9b6f3eba",
   "metadata": {},
   "outputs": [],
   "source": [
    "def count_occurances(lst):\n",
    "    count_lst = {}\n",
    "    \n",
    "    for i in lst:\n",
    "        if i in count_lst:\n",
    "            count_lst[i] += 1\n",
    "        \n",
    "        else:\n",
    "            count_lst[i] = 1\n",
    "            \n",
    "            \n",
    "    return count_lst       "
   ]
  },
  {
   "cell_type": "code",
   "execution_count": 8,
   "id": "3926b776",
   "metadata": {},
   "outputs": [],
   "source": [
    "count_occurances([1,4,5,7,4,5,7,5,3,3,5,5,6,7])"
   ]
  },
  {
   "cell_type": "markdown",
   "id": "79a62891",
   "metadata": {},
   "source": [
    "# Ques 5.\n",
    "Finding the second largest number in a list:"
   ]
  },
  {
   "cell_type": "code",
   "execution_count": 9,
   "id": "75097cda",
   "metadata": {},
   "outputs": [],
   "source": [
    "def find_second_largest(lst):\n",
    "    if len(lst) < 2:\n",
    "        return None\n",
    "\n",
    "    largest = max(lst[0], lst[1])\n",
    "    second_largest = min(lst[0], lst[1])\n",
    "\n",
    "    for i in range(2, len(lst)):\n",
    "        if lst[i] > largest:\n",
    "            second_largest = largest\n",
    "            largest = lst[i]\n",
    "        elif lst[i] > second_largest:\n",
    "            second_largest = lst[i]\n",
    "\n",
    "    return second_largest\n",
    "\n",
    "\n",
    "\n",
    "numbers = [5, 8, 2, 10, 3, 1]\n",
    "second_largest = find_second_largest(numbers)\n",
    "print(\"The second largest number in the list is:\", second_largest)\n"
   ]
  },
  {
   "cell_type": "markdown",
   "id": "188891a1",
   "metadata": {},
   "source": [
    "# Ques 6. \n",
    "Removing duplicate elements from a list:"
   ]
  },
  {
   "cell_type": "code",
   "execution_count": 10,
   "id": "cc7699b7",
   "metadata": {},
   "outputs": [],
   "source": [
    "def remove_duplicates(lst):\n",
    "    return list(set(lst))\n",
    "\n",
    "\n",
    "numbers = [1, 2, 3, 2, 1, 3, 1, 1, 2]\n",
    "unique_numbers = remove_duplicates(numbers)\n",
    "print(\"List with duplicates removed:\", unique_numbers)"
   ]
  },
  {
   "cell_type": "markdown",
   "id": "04f7aac8",
   "metadata": {},
   "source": [
    "# Ques 7.\n",
    "Write a program to calculate the factorial of a given number.\n"
   ]
  },
  {
   "cell_type": "code",
   "execution_count": 11,
   "id": "fce8e217",
   "metadata": {},
   "outputs": [],
   "source": [
    "def factorial(n):\n",
    "    if n == 0:\n",
    "        return 1\n",
    "    else:\n",
    "        return n * factorial(n-1)\n",
    "\n",
    "\n",
    "number = 5\n",
    "factorial_result = factorial(number)\n",
    "print(\"The factorial of\", number, \"is:\", factorial_result)\n"
   ]
  },
  {
   "cell_type": "markdown",
   "id": "8d591485",
   "metadata": {},
   "source": [
    "# Ques 8. \n",
    "Implement a function to check if a given number is prime"
   ]
  },
  {
   "cell_type": "code",
   "execution_count": 12,
   "id": "d1221b52",
   "metadata": {},
   "outputs": [],
   "source": [
    "def is_prime(number):\n",
    "    if number < 2:\n",
    "        return False\n",
    "    for i in range(2, int(number ** 0.5) + 1):\n",
    "        if number % i == 0:\n",
    "            return False\n",
    "    return True\n",
    "\n",
    "\n",
    "\n",
    "num = 17\n",
    "if is_prime(num):\n",
    "    print(num, \"is a prime number.\")\n",
    "else:\n",
    "    print(num, \"is not a prime number.\")\n"
   ]
  },
  {
   "cell_type": "markdown",
   "id": "653761a6",
   "metadata": {},
   "source": [
    "# Ques 9. \n",
    "Write a Python program to sort a list of integers in ascending order.\n"
   ]
  },
  {
   "cell_type": "code",
   "execution_count": 13,
   "id": "c27ee5cd",
   "metadata": {},
   "outputs": [],
   "source": [
    "def sort_list(lst):\n",
    "    sorted_lst = lst[:]\n",
    "    for i in range(len(sorted_lst)):\n",
    "        for j in range(i, len(sorted_lst)):\n",
    "            if sorted_lst[j] < sorted_lst[i]:\n",
    "                sorted_lst[i], sorted_lst[j] = sorted_lst[j], sorted_lst[i]\n",
    "    return sorted_lst\n",
    "\n",
    "\n",
    "\n",
    "numbers = [5, 2, 9, 1, 7]\n",
    "sorted_numbers = sort_list(numbers)\n",
    "print(\"Sorted list:\", sorted_numbers)\n"
   ]
  },
  {
   "cell_type": "markdown",
   "id": "47965fbb",
   "metadata": {},
   "source": [
    "# Ques 10.\n",
    "Implement a function to find the sum of all numbers in a list.\n"
   ]
  },
  {
   "cell_type": "code",
   "execution_count": 14,
   "id": "9e26d1cd",
   "metadata": {},
   "outputs": [],
   "source": [
    "def sum_list(lst):\n",
    "    total = 0\n",
    "    for num in lst:\n",
    "        total += num\n",
    "    return total\n",
    "\n",
    "\n",
    "numbers = [1, 2, 3, 4, 5]\n",
    "sum_of_numbers = sum_list(numbers)\n",
    "print(\"The sum of all numbers in the list is:\", sum_of_numbers)\n"
   ]
  },
  {
   "cell_type": "markdown",
   "id": "7f8dd095",
   "metadata": {},
   "source": [
    "# Ques 11. \n",
    "Write a program to find the common elements between two lists.\n"
   ]
  },
  {
   "cell_type": "code",
   "execution_count": 15,
   "id": "1a19c773",
   "metadata": {},
   "outputs": [],
   "source": [
    "def find_common_elements(list1, list2):\n",
    "    return list(set(list1) & set(list2))\n",
    "\n",
    "\n",
    "list1 = [1, 2, 3, 4, 5]\n",
    "list2 = [4, 5, 6, 7, 8]\n",
    "common_elements = find_common_elements(list1, list2)\n",
    "print(\"Common elements:\", common_elements)\n"
   ]
  },
  {
   "cell_type": "markdown",
   "id": "39ed207e",
   "metadata": {},
   "source": [
    "# Ques12. \n",
    "Implement a function to check if a given string is an anagram of another string.\n"
   ]
  },
  {
   "cell_type": "code",
   "execution_count": 16,
   "id": "1177de13",
   "metadata": {},
   "outputs": [],
   "source": [
    "def is_anagram(str1, str2):\n",
    "    str1 = str1.lower().replace(\" \", \"\")\n",
    "    str2 = str2.lower().replace(\" \", \"\")\n",
    "    return sorted(str1) == sorted(str2)\n",
    "\n",
    "\n",
    "\n",
    "string1 = \"listen\"\n",
    "string2 = \"silent\"\n",
    "if is_anagram(string1, string2):\n",
    "    print(\"The strings are anagrams.\")\n",
    "else:\n",
    "    print(\"The strings are not anagrams.\")\n"
   ]
  },
  {
   "cell_type": "markdown",
   "id": "a74df647",
   "metadata": {},
   "source": [
    "# Ques 13 \n",
    " Write a Python program to generate all permutations of a given string.\n"
   ]
  },
  {
   "cell_type": "code",
   "execution_count": 17,
   "id": "b34a8a47",
   "metadata": {},
   "outputs": [],
   "source": [
    "def permutations(string):\n",
    "    if len(string) == 1:\n",
    "        return [string]\n",
    "    perms = []\n",
    "    for i in range(len(string)):\n",
    "        char = string[i]\n",
    "        remaining = string[:i] + string[i+1:]\n",
    "        for perm in permutations(remaining):\n",
    "            perms.append(char + perm)\n",
    "    return perms\n",
    "\n",
    "\n",
    "input_string = \"abc\"\n",
    "perms = permutations(input_string)\n",
    "print(\"Permutations:\", perms)\n"
   ]
  },
  {
   "cell_type": "markdown",
   "id": "36f27d2f",
   "metadata": {},
   "source": [
    "# Ques 14.\n",
    "Implement a function to calculate the Fibonacci sequence up to a given number of terms.\n"
   ]
  },
  {
   "cell_type": "code",
   "execution_count": 18,
   "id": "41cb4d84",
   "metadata": {},
   "outputs": [],
   "source": [
    "def fibonacci(n):\n",
    "    sequence = []\n",
    "    if n >= 1:\n",
    "        sequence.append(0)\n",
    "    if n >= 2:\n",
    "        sequence.append(1)\n",
    "    for i in range(2, n):\n",
    "        sequence.append(sequence[i-1] + sequence[i-2])\n",
    "    return sequence\n",
    "\n",
    "\n",
    "terms = 10\n",
    "fibonacci_sequence = fibonacci(terms)\n",
    "print(\"Fibonacci sequence:\", fibonacci_sequence)\n"
   ]
  },
  {
   "cell_type": "markdown",
   "id": "993455a4",
   "metadata": {},
   "source": [
    "# Ques 15.\n",
    " Write a program to find the median of a list of numbers."
   ]
  },
  {
   "cell_type": "code",
   "execution_count": 19,
   "id": "ee2ea971",
   "metadata": {},
   "outputs": [],
   "source": [
    "def find_median(lst):\n",
    "    sorted_lst = sorted(lst)\n",
    "    n = len(sorted_lst)\n",
    "    if n % 2 == 0:\n",
    "        median = (sorted_lst[n//2 - 1] + sorted_lst[n//2]) / 2\n",
    "    else:\n",
    "        median = sorted_lst[n//2]\n",
    "    return median\n",
    "\n",
    "\n",
    "numbers = [4, 2, 9, 7, 5, 1, 6]\n",
    "median = find_median(numbers)\n",
    "print(\"Median:\", median)\n"
   ]
  },
  {
   "cell_type": "markdown",
   "id": "badadae5",
   "metadata": {},
   "source": [
    "# Ques 16.\n",
    "Implement a function to check if a given list is sorted in non-decreasing order.\n"
   ]
  },
  {
   "cell_type": "code",
   "execution_count": 20,
   "id": "1c0a45dc",
   "metadata": {},
   "outputs": [],
   "source": [
    "def is_sorted(lst):\n",
    "    return all(lst[i] <= lst[i+1] for i in range(len(lst)-1))\n",
    "\n",
    "\n",
    "numbers1 = [1, 2, 3, 4, 5]\n",
    "numbers2 = [4, 2, 9, 7, 5, 1, 6]\n",
    "if is_sorted(numbers1):\n",
    "    print(\"List 1 is sorted.\")\n",
    "else:\n",
    "    print(\"List 1 is not sorted.\")\n",
    "\n",
    "if is_sorted(numbers2):\n",
    "    print(\"List 2 is sorted.\")\n",
    "else:\n",
    "    print(\"List 2 is not sorted.\")\n"
   ]
  },
  {
   "cell_type": "markdown",
   "id": "381905fa",
   "metadata": {},
   "source": [
    "# Ques 17.\n",
    "Write a Python program to find the intersection of two lists.\n"
   ]
  },
  {
   "cell_type": "code",
   "execution_count": 21,
   "id": "b8a664e6",
   "metadata": {},
   "outputs": [],
   "source": [
    "def find_intersection(list1, list2):\n",
    "    return list(set(list1) & set(list2))\n",
    "\n",
    "\n",
    "list1 = [1, 2, 3, 4, 5]\n",
    "list2 = [4, 5, 6, 7, 8]\n",
    "intersection = find_intersection(list1, list2)\n",
    "print(\"Intersection:\", intersection)\n"
   ]
  },
  {
   "cell_type": "markdown",
   "id": "939ff842",
   "metadata": {},
   "source": [
    "# Ques 18.\n",
    "Implement a function to find the maximum subarray sum in a given list.\n"
   ]
  },
  {
   "cell_type": "code",
   "execution_count": 22,
   "id": "73e60913",
   "metadata": {},
   "outputs": [],
   "source": [
    "def max_subarray_sum(lst):\n",
    "    max_sum = lst[0]\n",
    "    current_sum = lst[0]\n",
    "    for num in lst[1:]:\n",
    "        current_sum = max(num, current_sum + num)\n",
    "        max_sum = max(max_sum, current_sum)\n",
    "    return max_sum\n",
    "\n",
    "\n",
    "numbers = [-2, 1, -3, 4, -1, 2, 1, -5, 4]\n",
    "max_sum = max_subarray_sum(numbers)\n",
    "print(\"Maximum subarray sum:\", max_sum)\n"
   ]
  },
  {
   "cell_type": "markdown",
   "id": "5f1b9f61",
   "metadata": {},
   "source": [
    "# Ques 19."
   ]
  },
  {
   "cell_type": "code",
   "execution_count": 23,
   "id": "372fadab",
   "metadata": {},
   "outputs": [],
   "source": [
    "def remove_vowels(string):\n",
    "    vowels = ['a', 'e', 'i', 'o', 'u', 'A', 'E', 'I', 'O', 'U']\n",
    "    return ''.join([char for char in string if char not in vowels])\n",
    "\n",
    "\n",
    "input_string = \"Hello, World!\"\n",
    "string_without_vowels = remove_vowels(input_string)\n",
    "print(\"String without vowels:\", string_without_vowels)\n"
   ]
  },
  {
   "cell_type": "markdown",
   "id": "3017578f",
   "metadata": {},
   "source": [
    "# Ques 20."
   ]
  },
  {
   "cell_type": "code",
   "execution_count": 24,
   "id": "d221dc3e",
   "metadata": {},
   "outputs": [],
   "source": [
    "def reverse_words(sentence):\n",
    "    words = sentence.split()\n",
    "    reversed_words = words[::-1]\n",
    "    reversed_sentence = ' '.join(reversed_words)\n",
    "    return reversed_sentence\n",
    "\n",
    "\n",
    "input_sentence = \"Hello, World! Welcome to Python.\"\n",
    "reversed_sentence = reverse_words(input_sentence)\n",
    "print(\"Reversed sentence:\", reversed_sentence)\n"
   ]
  },
  {
   "cell_type": "markdown",
   "id": "d318f8c5",
   "metadata": {},
   "source": [
    "# Ques 21"
   ]
  },
  {
   "cell_type": "code",
   "execution_count": 25,
   "id": "4ad8bf41",
   "metadata": {},
   "outputs": [],
   "source": [
    "def are_anagrams(str1, str2):\n",
    "    str1 = str1.lower().replace(\" \", \"\")\n",
    "    str2 = str2.lower().replace(\" \", \"\")\n",
    "    return sorted(str1) == sorted(str2)\n",
    "\n",
    "\n",
    "string1 = \"listen\"\n",
    "string2 = \"silent\"\n",
    "if are_anagrams(string1, string2):\n",
    "    print(\"The strings are anagrams.\")\n",
    "else:\n",
    "    print(\"The strings are not anagrams.\")\n"
   ]
  },
  {
   "cell_type": "markdown",
   "id": "ea0cce11",
   "metadata": {},
   "source": [
    "# Ques 22."
   ]
  },
  {
   "cell_type": "code",
   "execution_count": 26,
   "id": "41b56831",
   "metadata": {},
   "outputs": [],
   "source": [
    "def find_first_non_repeating(string):\n",
    "    char_count = {}\n",
    "    for char in string:\n",
    "        if char in char_count:\n",
    "            char_count[char] += 1\n",
    "        else:\n",
    "            char_count[char] = 1\n",
    "    for char in string:\n",
    "        if char_count[char] == 1:\n",
    "            return char\n",
    "    return None\n",
    "\n",
    "\n",
    "input_string = \"abracadabra\"\n",
    "first_non_repeating_char = find_first_non_repeating(input_string)\n",
    "print(\"First non-repeating character:\", first_non_repeating_char)\n"
   ]
  },
  {
   "cell_type": "markdown",
   "id": "163709da",
   "metadata": {},
   "source": [
    "# Ques 23."
   ]
  },
  {
   "cell_type": "code",
   "execution_count": 27,
   "id": "1db235db",
   "metadata": {},
   "outputs": [],
   "source": [
    "def prime_factors(n):\n",
    "    factors = []\n",
    "    i = 2\n",
    "    while i * i <= n:\n",
    "        if n % i:\n",
    "            i += 1\n",
    "        else:\n",
    "            n //= i\n",
    "            factors.append(i)\n",
    "    if n > 1:\n",
    "        factors.append(n)\n",
    "    return factors\n",
    "\n",
    "\n",
    "number = 60\n",
    "factors = prime_factors(number)\n",
    "print(\"Prime factors of\", number, \":\", factors)\n"
   ]
  },
  {
   "cell_type": "markdown",
   "id": "d5aeda41",
   "metadata": {},
   "source": [
    "# Ques 24."
   ]
  },
  {
   "cell_type": "code",
   "execution_count": 28,
   "id": "320d4f9e",
   "metadata": {
    "scrolled": true
   },
   "outputs": [],
   "source": [
    "def is_power_of_two(number):\n",
    "    if number <= 0:\n",
    "        return False\n",
    "    return (number & (number - 1)) == 0\n",
    "\n",
    "\n",
    "num1 = 16\n",
    "num2 = 17\n",
    "\n",
    "if is_power_of_two(num1):\n",
    "    print(num1, \"is a power of two.\")\n",
    "else:\n",
    "    print(num1, \"is not a power of two.\")\n",
    "\n",
    "if is_power_of_two(num2):\n",
    "    print(num2, \"is a power of two.\")\n",
    "else:\n",
    "    print(num2, \"is not a power of two.\")\n"
   ]
  },
  {
   "cell_type": "markdown",
   "id": "06eb467c",
   "metadata": {},
   "source": [
    "# Ques 25."
   ]
  },
  {
   "cell_type": "code",
   "execution_count": 29,
   "id": "89d7cffb",
   "metadata": {},
   "outputs": [],
   "source": [
    "def merge_sorted_lists(list1, list2):\n",
    "    merged_list = []\n",
    "    i, j = 0, 0\n",
    "    while i < len(list1) and j < len(list2):\n",
    "        if list1[i] <= list2[j]:\n",
    "            merged_list.append(list1[i])\n",
    "            i += 1\n",
    "        else:\n",
    "            merged_list.append(list2[j])\n",
    "            j += 1\n",
    "\n",
    "    while i < len(list1):\n",
    "        merged_list.append(list1[i])\n",
    "        i += 1\n",
    "    \n",
    "    while j < len(list2):\n",
    "        merged_list.append(list2[j])\n",
    "        j += 1\n",
    "    return merged_list\n",
    "\n",
    "\n",
    "list1 = [1, 3, 5, 7]\n",
    "list2 = [2, 4, 6, 8]\n",
    "merged_list = merge_sorted_lists(list1, list2)\n",
    "print(\"Merged list:\", merged_list)\n"
   ]
  },
  {
   "cell_type": "markdown",
   "id": "335ea241",
   "metadata": {},
   "source": [
    "# Ques 26."
   ]
  },
  {
   "cell_type": "code",
   "execution_count": 30,
   "id": "481ab762",
   "metadata": {},
   "outputs": [],
   "source": [
    "def find_mode(lst):\n",
    "    mode_dict = {}\n",
    "    for num in lst:\n",
    "        if num in mode_dict:\n",
    "            mode_dict[num] += 1\n",
    "        else:\n",
    "            mode_dict[num] = 1\n",
    "    max_frequency = max(mode_dict.values())\n",
    "    mode = [num for num, freq in mode_dict.items() if freq == max_frequency]\n",
    "    return mode\n",
    "\n",
    "\n",
    "numbers = [1, 2, 3, 2, 1, 3, 1, 1, 2]\n",
    "mode = find_mode(numbers)\n",
    "print(\"Mode:\", mode)\n"
   ]
  },
  {
   "cell_type": "markdown",
   "id": "610be1d2",
   "metadata": {},
   "source": [
    "# Ques 27."
   ]
  },
  {
   "cell_type": "code",
   "execution_count": 31,
   "id": "8d5d81ab",
   "metadata": {},
   "outputs": [],
   "source": [
    "def gcd(a, b):\n",
    "    while b != 0:\n",
    "        a, b = b, a % b\n",
    "    return a\n",
    "\n",
    "\n",
    "num1 = 24\n",
    "num2 = 36\n",
    "gcd_result = gcd(num1, num2)\n",
    "print(\"GCD:\", gcd_result)\n"
   ]
  },
  {
   "cell_type": "markdown",
   "id": "5131ce1a",
   "metadata": {},
   "source": [
    "# Ques 28."
   ]
  },
  {
   "cell_type": "code",
   "execution_count": 32,
   "id": "faed24b7",
   "metadata": {},
   "outputs": [],
   "source": [
    "def sqrt(number):\n",
    "    if number < 0:\n",
    "        return None\n",
    "    if number == 0:\n",
    "        return 0\n",
    "    guess = number\n",
    "    while True:\n",
    "        new_guess = (guess + number/guess) / 2\n",
    "        if abs(new_guess - guess) < 1e-10:\n",
    "            return new_guess\n",
    "        guess = new_guess\n",
    "\n",
    "\n",
    "num = 25\n",
    "sqrt_result = sqrt(num)\n",
    "print(\"Square root:\", sqrt_result)\n"
   ]
  },
  {
   "cell_type": "markdown",
   "id": "b7e85286",
   "metadata": {},
   "source": [
    "# Ques 29."
   ]
  },
  {
   "cell_type": "code",
   "execution_count": 33,
   "id": "f81c19b0",
   "metadata": {},
   "outputs": [],
   "source": [
    "import re\n",
    "\n",
    "def is_valid_palindrome(string):\n",
    "    alphanumeric_string = re.sub(r'[^a-zA-Z0-9]', '', string).lower()\n",
    "    return alphanumeric_string == alphanumeric_string[::-1]\n",
    "\n",
    "\n",
    "input_string = \"A man, a plan, a canal: Panama!\"\n",
    "if is_valid_palindrome(input_string):\n",
    "    print(\"The string is a valid palindrome.\")\n",
    "else:\n",
    "    print(\"The string is not a valid palindrome.\")\n"
   ]
  },
  {
   "cell_type": "markdown",
   "id": "978183a3",
   "metadata": {},
   "source": [
    "# Ques 30."
   ]
  },
  {
   "cell_type": "code",
   "execution_count": 34,
   "id": "cdbe1673",
   "metadata": {},
   "outputs": [],
   "source": [
    "def find_min_element_rotated(lst):\n",
    "    left, right = 0, len(lst) - 1\n",
    "    while left < right:\n",
    "        mid = left + (right - left) // 2\n",
    "        if lst[mid] > lst[right]:\n",
    "            left = mid + 1\n",
    "        else:\n",
    "            right = mid\n",
    "    return lst[left]\n",
    "\n",
    "\n",
    "numbers = [7, 8, 9, 1, 2, 3, 4, 5, 6]\n",
    "min_element = find_min_element_rotated(numbers)\n",
    "print(\"Minimum element:\", min_element)\n"
   ]
  },
  {
   "cell_type": "markdown",
   "id": "1bc0849d",
   "metadata": {},
   "source": [
    "# Ques 31."
   ]
  },
  {
   "cell_type": "code",
   "execution_count": 35,
   "id": "d1750755",
   "metadata": {},
   "outputs": [],
   "source": [
    "def sum_even_numbers(lst):\n",
    "    return sum(num for num in lst if num % 2 == 0)\n",
    "\n",
    "\n",
    "numbers = [1, 2, 3, 4, 5, 6, 7, 8, 9, 10]\n",
    "sum_even = sum_even_numbers(numbers)\n",
    "print(\"Sum of even numbers:\", sum_even)\n"
   ]
  },
  {
   "cell_type": "markdown",
   "id": "fea1ba45",
   "metadata": {},
   "source": [
    "# Ques 32."
   ]
  },
  {
   "cell_type": "code",
   "execution_count": 36,
   "id": "ad750ade",
   "metadata": {},
   "outputs": [],
   "source": [
    "def power(base, exponent):\n",
    "    if exponent == 0:\n",
    "        return 1\n",
    "    elif exponent > 0:\n",
    "        return base * power(base, exponent - 1)\n",
    "    else:\n",
    "        return 1 / (base * power(base, -exponent - 1))\n",
    "\n",
    "\n",
    "base = 2\n",
    "exponent = 3\n",
    "result = power(base, exponent)\n",
    "print(\"Result:\", result)\n"
   ]
  },
  {
   "cell_type": "markdown",
   "id": "c183cad2",
   "metadata": {},
   "source": [
    "# Ques 33."
   ]
  },
  {
   "cell_type": "code",
   "execution_count": 37,
   "id": "fcc7d7ab",
   "metadata": {},
   "outputs": [],
   "source": [
    "def remove_duplicates_preserve_order(lst):\n",
    "    unique_lst = []\n",
    "    seen = set()\n",
    "    for num in lst:\n",
    "        if num not in seen:\n",
    "            unique_lst.append(num)\n",
    "            seen.add(num)\n",
    "    return unique_lst\n",
    "\n",
    "\n",
    "numbers = [1, 2, 3, 2, 1, 3, 1, 1, 2]\n",
    "unique_numbers = remove_duplicates_preserve_order(numbers)\n",
    "print(\"List with duplicates removed:\", unique_numbers)\n"
   ]
  },
  {
   "cell_type": "markdown",
   "id": "2549ab94",
   "metadata": {},
   "source": [
    "# Ques 34."
   ]
  },
  {
   "cell_type": "code",
   "execution_count": 38,
   "id": "30e4b9b5",
   "metadata": {},
   "outputs": [],
   "source": [
    "def longest_common_prefix(strings):\n",
    "    if not strings:\n",
    "        return \"\"\n",
    "    min_length = min(len(string) for string in strings)\n",
    "    prefix = \"\"\n",
    "    for i in range(min_length):\n",
    "        if all(string[i] == strings[0][i] for string in strings):\n",
    "            prefix += strings[0][i]\n",
    "        else:\n",
    "            break\n",
    "    return prefix\n",
    "\n",
    "\n",
    "words = [\"flower\", \"flow\", \"flight\"]\n",
    "common_prefix = longest_common_prefix(words)\n",
    "print(\"Longest common prefix:\", common_prefix)\n"
   ]
  },
  {
   "cell_type": "markdown",
   "id": "9d96ca19",
   "metadata": {},
   "source": [
    "# Ques 35."
   ]
  },
  {
   "cell_type": "code",
   "execution_count": 39,
   "id": "609c73fe",
   "metadata": {},
   "outputs": [],
   "source": [
    "def is_perfect_square(num):\n",
    "    if num < 0:\n",
    "        return False\n",
    "    root = int(num ** 0.5)\n",
    "    return root * root == num\n",
    "\n",
    "\n",
    "number = 25\n",
    "if is_perfect_square(number):\n",
    "    print(\"The number is a perfect square.\")\n",
    "else:\n",
    "    print(\"The number is not a perfect square.\")\n"
   ]
  },
  {
   "cell_type": "markdown",
   "id": "745095d7",
   "metadata": {},
   "source": [
    "# Ques 36."
   ]
  },
  {
   "cell_type": "code",
   "execution_count": 40,
   "id": "1c4c753f",
   "metadata": {},
   "outputs": [],
   "source": [
    "def product_list(lst):\n",
    "    product = 1\n",
    "    for num in lst:\n",
    "        product *= num\n",
    "    return product\n",
    "\n",
    "\n",
    "numbers = [1, 2, 3, 4, 5]\n",
    "product = product_list(numbers)\n",
    "print(\"Product of all elements:\", product)\n"
   ]
  },
  {
   "cell_type": "markdown",
   "id": "0140ab6f",
   "metadata": {},
   "source": [
    "# Ques 37."
   ]
  },
  {
   "cell_type": "code",
   "execution_count": 41,
   "id": "5e02e73f",
   "metadata": {},
   "outputs": [],
   "source": [
    "def reverse_sentence(sentence):\n",
    "    words = sentence.split()\n",
    "    reversed_words = words[::-1]\n",
    "    reversed_sentence = ' '.join(reversed_words)\n",
    "    return reversed_sentence\n",
    "\n",
    "\n",
    "input_sentence = \"Hello, World! Welcome to Python.\"\n",
    "reversed_sentence = reverse_sentence(input_sentence)\n",
    "print(\"Reversed sentence:\", reversed_sentence)\n"
   ]
  },
  {
   "cell_type": "markdown",
   "id": "2c78ea5d",
   "metadata": {},
   "source": [
    "# Ques 38."
   ]
  },
  {
   "cell_type": "code",
   "execution_count": 42,
   "id": "d642505e",
   "metadata": {},
   "outputs": [],
   "source": [
    "def find_missing_number(lst):\n",
    "    n = len(lst) + 1\n",
    "    total_sum = (n * (n + 1)) // 2\n",
    "    actual_sum = sum(lst)\n",
    "    missing_number = total_sum - actual_sum\n",
    "    return missing_number\n",
    "\n",
    "\n",
    "numbers = [1, 2, 3, 5, 6, 7, 8, 9, 10]\n",
    "missing_number = find_missing_number(numbers)\n",
    "print(\"Missing number:\", missing_number)\n"
   ]
  },
  {
   "cell_type": "markdown",
   "id": "c8e5869b",
   "metadata": {},
   "source": [
    "# Ques 39."
   ]
  },
  {
   "cell_type": "code",
   "execution_count": 43,
   "id": "308f46c6",
   "metadata": {},
   "outputs": [],
   "source": [
    "def sum_of_digits(number):\n",
    "    total = 0\n",
    "    while number > 0:\n",
    "        total += number % 10\n",
    "        number //= 10\n",
    "    return total\n",
    "\n",
    "\n",
    "num = 12345\n",
    "digit_sum = sum_of_digits(num)\n",
    "print(\"Sum of digits:\", digit_sum)\n"
   ]
  },
  {
   "cell_type": "markdown",
   "id": "8e322b07",
   "metadata": {},
   "source": [
    "# Ques 40."
   ]
  },
  {
   "cell_type": "code",
   "execution_count": 44,
   "id": "2e2e4200",
   "metadata": {},
   "outputs": [],
   "source": [
    "def is_valid_palindrome_case_sensitive(string):\n",
    "    return string == string[::-1]\n",
    "\n",
    "\n",
    "input_string = \"Madam\"\n",
    "if is_valid_palindrome_case_sensitive(input_string):\n",
    "    print(\"The string is a valid palindrome.\")\n",
    "else:\n",
    "    print(\"The string is not a valid palindrome.\")\n"
   ]
  },
  {
   "cell_type": "markdown",
   "id": "894a76e2",
   "metadata": {},
   "source": [
    "# Ques 41."
   ]
  },
  {
   "cell_type": "code",
   "execution_count": 45,
   "id": "2790f205",
   "metadata": {},
   "outputs": [],
   "source": [
    "def find_smallest_missing_positive(lst):\n",
    "    n = len(lst)\n",
    "    for i in range(n):\n",
    "        while 1 <= lst[i] <= n and lst[lst[i] - 1] != lst[i]:\n",
    "            lst[lst[i] - 1], lst[i] = lst[i], lst[lst[i] - 1]\n",
    "    for i in range(n):\n",
    "        if lst[i] != i + 1:\n",
    "            return i + 1\n",
    "    return n + 1\n",
    "\n",
    "\n",
    "numbers = [3, 4, -1, 1]\n",
    "smallest_missing = find_smallest_missing_positive(numbers)\n",
    "print(\"Smallest missing positive integer:\", smallest_missing)\n"
   ]
  },
  {
   "cell_type": "markdown",
   "id": "be33acb2",
   "metadata": {},
   "source": [
    "# Ques 42."
   ]
  },
  {
   "cell_type": "code",
   "execution_count": 46,
   "id": "fe451cb3",
   "metadata": {},
   "outputs": [],
   "source": [
    "def longest_palindrome_substring(string):\n",
    "    n = len(string)\n",
    "    longest_palindrome = \"\"\n",
    "    for i in range(n):\n",
    "\n",
    "        left, right = i, i\n",
    "        while left >= 0 and right < n and string[left] == string[right]:\n",
    "            left -= 1\n",
    "            right += 1\n",
    "        odd_length_palindrome = string[left+1:right]\n",
    "\n",
    "     \n",
    "        left, right = i, i + 1\n",
    "        while left >= 0 and right < n and string[left] == string[right]:\n",
    "            left -= 1\n",
    "            right += 1\n",
    "        even_length_palindrome = string[left+1:right]\n",
    "\n",
    "        if len(odd_length_palindrome) > len(longest_palindrome):\n",
    "            longest_palindrome = odd_length_palindrome\n",
    "        if len(even_length_palindrome) > len(longest_palindrome):\n",
    "            longest_palindrome = even_length_palindrome\n",
    "\n",
    "    return longest_palindrome\n",
    "\n",
    "\n",
    "\n",
    "\n",
    "input_string = \"babad\"\n",
    "longest_palindrome = longest_palindrome_substring(input_string)\n",
    "print(\"Longest palindrome substring:\", longest_palindrome)\n"
   ]
  },
  {
   "cell_type": "markdown",
   "id": "ad245486",
   "metadata": {},
   "source": [
    "# Ques 43."
   ]
  },
  {
   "cell_type": "code",
   "execution_count": 47,
   "id": "87a936c0",
   "metadata": {},
   "outputs": [],
   "source": [
    "def count_occurrences(lst, element):\n",
    "    count = 0\n",
    "    for num in lst:\n",
    "        if num == element:\n",
    "            count += 1\n",
    "    return count\n",
    "\n",
    "\n",
    "numbers = [1, 2, 3, 2, 1, 3, 1, 1, 2]\n",
    "element = 1\n",
    "occurrences = count_occurrences(numbers, element)\n",
    "print(\"Occurrences of\", element, \":\", occurrences)\n"
   ]
  },
  {
   "cell_type": "markdown",
   "id": "b3109d7e",
   "metadata": {},
   "source": [
    "# Ques 44."
   ]
  },
  {
   "cell_type": "code",
   "execution_count": 48,
   "id": "c8e4429d",
   "metadata": {},
   "outputs": [],
   "source": [
    "def is_perfect_number(number):\n",
    "    if number <= 0:\n",
    "        return False\n",
    "    divisor_sum = sum(i for i in range(1, number) if number % i == 0)\n",
    "    return divisor_sum == number\n",
    "\n",
    "\n",
    "num = 28\n",
    "if is_perfect_number(num):\n",
    "    print(\"The number is a perfect number.\")\n",
    "else:\n",
    "    print(\"The number is not a perfect number.\")\n"
   ]
  },
  {
   "cell_type": "markdown",
   "id": "c31dc0bc",
   "metadata": {},
   "source": [
    "# Ques 45."
   ]
  },
  {
   "cell_type": "code",
   "execution_count": 49,
   "id": "535392ce",
   "metadata": {},
   "outputs": [],
   "source": [
    "def remove_duplicates_string(string):\n",
    "    return ''.join(set(string))\n",
    "\n",
    "\n",
    "input_string = \"Hello, World!\"\n",
    "string_without_duplicates = remove_duplicates_string(input_string)\n",
    "print(\"String without duplicates:\", string_without_duplicates)\n"
   ]
  },
  {
   "cell_type": "markdown",
   "id": "424f072e",
   "metadata": {},
   "source": [
    "# Ques 46."
   ]
  },
  {
   "cell_type": "code",
   "execution_count": 50,
   "id": "06e59c2f",
   "metadata": {},
   "outputs": [],
   "source": [
    "def find_first_missing_positive(lst):\n",
    "    n = len(lst)\n",
    "    for i in range(n):\n",
    "        while 1 <= lst[i] <= n and lst[lst[i] - 1] != lst[i]:\n",
    "            lst[lst[i] - 1], lst[i] = lst[i], lst[lst[i] - 1]\n",
    "    for i in range(n):\n",
    "        if lst[i] != i + 1:\n",
    "            return i + 1\n",
    "    return n + 1\n",
    "\n",
    "\n",
    "numbers = [3, 4, -1, 1]\n",
    "first_missing_positive = find_first_missing_positive(numbers)\n",
    "print(\"First missing positive number:\", first_missing_positive)\n"
   ]
  },
  {
   "cell_type": "code",
   "execution_count": null,
   "id": "dc3ff7ec",
   "metadata": {},
   "outputs": [],
   "source": []
  }
 ],
 "metadata": {
  "kernelspec": {
   "display_name": "Python 3 (ipykernel)",
   "language": "python",
   "name": "python3"
  },
  "language_info": {
   "codemirror_mode": {
    "name": "ipython",
    "version": 3
   },
   "file_extension": ".py",
   "mimetype": "text/x-python",
   "name": "python",
   "nbconvert_exporter": "python",
   "pygments_lexer": "ipython3",
   "version": "3.10.9"
  }
 },
 "nbformat": 4,
 "nbformat_minor": 5
}
