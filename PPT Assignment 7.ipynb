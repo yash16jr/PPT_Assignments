{
 "cells": [
  {
   "cell_type": "markdown",
   "id": "b3a7ea4c",
   "metadata": {},
   "source": [
    "# Ques 1.\n",
    "Given two strings s and t, *determine if they are isomorphic*.\n",
    "\n",
    "Two strings s and t are isomorphic if the characters in s can be replaced to get t.\n",
    "\n",
    "All occurrences of a character must be replaced with another character while preserving the order of characters. No two characters may map to the same character, but a character may map to itself.\n",
    "\n",
    "**Example 1:**\n",
    "\n",
    "**Input:** s = \"egg\", t = \"add\"\n",
    "\n",
    "**Output:** true"
   ]
  },
  {
   "cell_type": "code",
   "execution_count": 1,
   "id": "02a24dc5",
   "metadata": {},
   "outputs": [
    {
     "name": "stdout",
     "output_type": "stream",
     "text": [
      "True\n"
     ]
    }
   ],
   "source": [
    "def isomorphic_strings(s, t):\n",
    "    if len(s) != len(t):\n",
    "        return False\n",
    "\n",
    "    s_to_t = {}\n",
    "    t_to_s = {}\n",
    "\n",
    "    for s_char, t_char in zip(s, t):\n",
    "        if s_char in s_to_t and t_char in t_to_s:\n",
    "            if s_to_t[s_char] != t_char or t_to_s[t_char] != s_char:\n",
    "                return False\n",
    "        elif s_char not in s_to_t and t_char not in t_to_s:\n",
    "            s_to_t[s_char] = t_char\n",
    "            t_to_s[t_char] = s_char\n",
    "        else:\n",
    "            return False\n",
    "\n",
    "    return True\n",
    "\n",
    "\n",
    "s = \"egg\"\n",
    "t = \"add\"\n",
    "print(isomorphic_strings(s, t))  \n",
    "\n"
   ]
  },
  {
   "cell_type": "markdown",
   "id": "9b760f19",
   "metadata": {},
   "source": [
    "# Ques2. \n",
    "Given a string num which represents an integer, return true *if* num *is a **strobogrammatic number***.\n",
    "\n",
    "A **strobogrammatic number** is a number that looks the same when rotated 180 degrees (looked at upside down).\n",
    "\n",
    "**Example 1:**\n",
    "\n",
    "**Input:** num = \"69\"\n",
    "\n",
    "**Output:**\n",
    "\n",
    "true"
   ]
  },
  {
   "cell_type": "code",
   "execution_count": 2,
   "id": "6f8a3f15",
   "metadata": {},
   "outputs": [
    {
     "name": "stdout",
     "output_type": "stream",
     "text": [
      "True\n"
     ]
    }
   ],
   "source": [
    "def is_strobogrammatic(num):\n",
    "    \n",
    "    left, right = 0, len(num) - 1\n",
    "    while left <= right:\n",
    "        \n",
    "        if not is_valid_pair(num[left], num[right]):\n",
    "            return False\n",
    "        \n",
    "        left += 1\n",
    "        right -= 1\n",
    "        \n",
    "    return True\n",
    "\n",
    "\n",
    "def is_valid_pair(a, b):\n",
    "    valid_pairs = {\n",
    "        \n",
    "        \"0\": \"0\",\n",
    "        \"1\": \"1\",\n",
    "        \"6\": \"9\",\n",
    "        \"8\": \"8\",\n",
    "        \"9\": \"6\"\n",
    "        \n",
    "    }\n",
    "    \n",
    "    return a in valid_pairs and valid_pairs[a] == b\n",
    "\n",
    "\n",
    "num = \"69\"\n",
    "print(is_strobogrammatic(num)) \n"
   ]
  },
  {
   "cell_type": "markdown",
   "id": "5ce28565",
   "metadata": {},
   "source": [
    "# Ques 3.\n",
    "Given two non-negative integers, num1 and num2 represented as string, return *the sum of* num1 *and* num2 *as a string*.\n",
    "\n",
    "You must solve the problem without using any built-in library for handling large integers (such as BigInteger). You must also not convert the inputs to integers directly.\n",
    "\n",
    "**Example 1:**\n",
    "\n",
    "**Input:** num1 = \"11\", num2 = \"123\"\n",
    "\n",
    "**Output:**\n",
    "\n",
    "\"134\""
   ]
  },
  {
   "cell_type": "code",
   "execution_count": 4,
   "id": "4089afe0",
   "metadata": {},
   "outputs": [
    {
     "name": "stdout",
     "output_type": "stream",
     "text": [
      "134\n"
     ]
    }
   ],
   "source": [
    "def addStrings(num1, num2):\n",
    "    result = []\n",
    "    i = len(num1) - 1\n",
    "    j = len(num2) - 1\n",
    "    carry = 0\n",
    "\n",
    "    while i >= 0 or j >= 0 or carry > 0:\n",
    "        x = int(num1[i]) if i >= 0 else 0\n",
    "        y = int(num2[j]) if j >= 0 else 0\n",
    "\n",
    "        curr_sum = x + y + carry\n",
    "        carry = curr_sum // 10\n",
    "        curr_sum %= 10\n",
    "\n",
    "        result.insert(0, str(curr_sum))\n",
    "\n",
    "        i -= 1\n",
    "        j -= 1\n",
    "\n",
    "    return \"\".join(result)\n",
    "\n",
    "\n",
    "num1 = \"11\"\n",
    "num2 = \"123\"\n",
    "print(addStrings(num1, num2))  \n"
   ]
  },
  {
   "cell_type": "markdown",
   "id": "92898bc7",
   "metadata": {},
   "source": [
    "# Ques 4.\n",
    "\n",
    "\n",
    "Given a string s, reverse the order of characters in each word within a sentence while still preserving whitespace and initial word order.\n",
    "\n",
    "**Example 1:**\n",
    "\n",
    "**Input:** s = \"Let's take LeetCode contest\"\n",
    "\n",
    "**Output:** \"s'teL ekat edoCteeL tsetnoc\"\n"
   ]
  },
  {
   "cell_type": "code",
   "execution_count": 7,
   "id": "6c07283b",
   "metadata": {},
   "outputs": [
    {
     "name": "stdout",
     "output_type": "stream",
     "text": [
      "s'teL ekat edoCteeL tsetnoc\n"
     ]
    }
   ],
   "source": [
    "def reverseWords(s):\n",
    "    words = s.split()\n",
    "    reversed_words = []\n",
    "\n",
    "    for word in words:\n",
    "        reversed_word = word[::-1]\n",
    "        reversed_words.append(reversed_word)\n",
    "\n",
    "    return \" \".join(reversed_words)\n",
    "\n",
    "# Test the function\n",
    "s = \"Let's take LeetCode contest\"\n",
    "print(reverseWords(s))  \n",
    "\n"
   ]
  },
  {
   "cell_type": "markdown",
   "id": "64e27a93",
   "metadata": {},
   "source": [
    "# Ques 5\n",
    "Given a string s and an integer k, reverse the first k characters for every 2k characters counting from the start of the string.\n",
    "\n",
    "If there are fewer than k characters left, reverse all of them. If there are less than 2k but greater than or equal to k characters, then reverse the first k characters and leave the other as original.\n",
    "\n",
    "**Example 1:**\n",
    "\n",
    "**Input:** s = \"abcdefg\", k = 2\n",
    "\n",
    "**Output:**\n",
    "\n",
    "\"bacdfeg\""
   ]
  },
  {
   "cell_type": "code",
   "execution_count": 9,
   "id": "7f7076fb",
   "metadata": {},
   "outputs": [
    {
     "name": "stdout",
     "output_type": "stream",
     "text": [
      "bacdfeg\n"
     ]
    }
   ],
   "source": [
    "def reverseStr(s, k):\n",
    "    \n",
    "    char_list = list(s)\n",
    "    i = 0\n",
    "\n",
    "    while i < len(s):\n",
    "        if i + k <= len(s):\n",
    "            char_list[i:i+k] = char_list[i:i+k][::-1]\n",
    "        else:\n",
    "            char_list[i:] = char_list[i:][::-1]\n",
    "        i += 2 * k\n",
    "\n",
    "    return \"\".join(char_list)\n",
    "\n",
    "\n",
    "s = \"abcdefg\"\n",
    "k = 2\n",
    "print(reverseStr(s, k)) \n"
   ]
  },
  {
   "cell_type": "markdown",
   "id": "05c222e5",
   "metadata": {},
   "source": [
    "# Ques 6.\n",
    "Given two strings s and goal, return true *if and only if* s *can become* goal *after some number of **shifts** on* s.\n",
    "\n",
    "A **shift** on s consists of moving the leftmost character of s to the rightmost position.\n",
    "\n",
    "- For example, if s = \"abcde\", then it will be \"bcdea\" after one shift.\n",
    "\n",
    "**Example 1:**\n",
    "\n",
    "**Input:** s = \"abcde\", goal = \"cdeab\"\n",
    "\n",
    "**Output:**\n",
    "\n",
    "true"
   ]
  },
  {
   "cell_type": "code",
   "execution_count": 10,
   "id": "03e0c595",
   "metadata": {},
   "outputs": [
    {
     "name": "stdout",
     "output_type": "stream",
     "text": [
      "True\n"
     ]
    }
   ],
   "source": [
    "def rotateString(s, goal):\n",
    "    if len(s) != len(goal):\n",
    "        return False\n",
    "\n",
    "    concatenated = s + s\n",
    "\n",
    "    return goal in concatenated\n",
    "\n",
    "\n",
    "s = \"abcde\"\n",
    "goal = \"cdeab\"\n",
    "print(rotateString(s, goal))  \n"
   ]
  },
  {
   "cell_type": "markdown",
   "id": "2f197934",
   "metadata": {},
   "source": [
    "# Ques 7.\n",
    "Given two strings s and t, return true *if they are equal when both are typed into empty text editors*. '#' means a backspace character.\n",
    "\n",
    "Note that after backspacing an empty text, the text will continue empty.\n",
    "\n",
    "**Example 1:**\n",
    "\n",
    "**Input:** s = \"ab#c\", t = \"ad#c\"\n",
    "\n",
    "**Output:** true\n",
    "\n",
    "**Explanation:**\n",
    "\n",
    "Both s and t become \"ac\"."
   ]
  },
  {
   "cell_type": "code",
   "execution_count": 11,
   "id": "2e8d320e",
   "metadata": {},
   "outputs": [
    {
     "name": "stdout",
     "output_type": "stream",
     "text": [
      "True\n"
     ]
    }
   ],
   "source": [
    "def backspaceCompare(s, t):\n",
    "    stack_s = []\n",
    "    stack_t = []\n",
    "\n",
    "    for c in s:\n",
    "        if c != '#':\n",
    "            stack_s.append(c)\n",
    "        elif stack_s:\n",
    "            stack_s.pop()\n",
    "\n",
    "    for c in t:\n",
    "        if c != '#':\n",
    "            stack_t.append(c)\n",
    "        elif stack_t:\n",
    "            stack_t.pop()\n",
    "\n",
    "    return stack_s == stack_t\n",
    "\n",
    "\n",
    "s = \"ab#c\"\n",
    "t = \"ad#c\"\n",
    "print(backspaceCompare(s, t))  \n"
   ]
  },
  {
   "cell_type": "markdown",
   "id": "c1d442d7",
   "metadata": {},
   "source": [
    "# Ques 8.\n",
    "You are given an array coordinates, coordinates[i] = [x, y], where [x, y] represents the coordinate of a point. Check if these points make a straight line in the XY plane.\n"
   ]
  },
  {
   "cell_type": "code",
   "execution_count": 13,
   "id": "34565b8e",
   "metadata": {},
   "outputs": [
    {
     "name": "stdout",
     "output_type": "stream",
     "text": [
      "True\n"
     ]
    }
   ],
   "source": [
    "def checkStraightLine(coordinates):\n",
    "    if len(coordinates) <= 2:\n",
    "        return True\n",
    "\n",
    "    x1, y1 = coordinates[0]\n",
    "    x2, y2 = coordinates[1]\n",
    "\n",
    "    initial_slope = (y2 - y1) / (x2 - x1)\n",
    "\n",
    "    for i in range(2, len(coordinates)):\n",
    "        x, y = coordinates[i]\n",
    "        current_slope = (y - y1) / (x - x1)\n",
    "\n",
    "        if current_slope != initial_slope:\n",
    "            return False\n",
    "\n",
    "    return True\n",
    "\n",
    "\n",
    "coordinates = [[1, 2], [2, 3], [3, 4], [4, 5], [5, 6]]\n",
    "print(checkStraightLine(coordinates))  \n"
   ]
  },
  {
   "cell_type": "code",
   "execution_count": null,
   "id": "03e39a29",
   "metadata": {},
   "outputs": [],
   "source": []
  }
 ],
 "metadata": {
  "kernelspec": {
   "display_name": "Python 3 (ipykernel)",
   "language": "python",
   "name": "python3"
  },
  "language_info": {
   "codemirror_mode": {
    "name": "ipython",
    "version": 3
   },
   "file_extension": ".py",
   "mimetype": "text/x-python",
   "name": "python",
   "nbconvert_exporter": "python",
   "pygments_lexer": "ipython3",
   "version": "3.10.9"
  }
 },
 "nbformat": 4,
 "nbformat_minor": 5
}
