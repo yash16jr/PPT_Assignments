{
 "cells": [
  {
   "cell_type": "markdown",
   "id": "c887388b",
   "metadata": {},
   "source": [
    "## Question 1\n",
    "Given three integer arrays arr1, arr2 and arr3 sorted in **strictly increasing** order, return a sorted array of **only** the integers that appeared in **all** three arrays.\n",
    "\n",
    "**Example 1:**\n",
    "\n",
    "Input: arr1 = [1,2,3,4,5], arr2 = [1,2,5,7,9], arr3 = [1,3,4,5,8]\n",
    "\n",
    "Output: [1,5]\n",
    "\n",
    "**Explanation:** Only 1 and 5 appeared in the three arrays\n",
    "\n",
    "</aside>"
   ]
  },
  {
   "cell_type": "code",
   "execution_count": 12,
   "id": "eda6de83",
   "metadata": {},
   "outputs": [],
   "source": [
    "def common_elements(arr1, arr2, arr3): \n",
    "    \n",
    "\n",
    "    i = j = k = 0 \n",
    "    new_arr = []\n",
    "    n = len(arr1)\n",
    "\n",
    "    while i<len(arr1) and j<len(arr2) and k<len(arr3):\n",
    "\n",
    "            if arr1[i] == arr2[j] == arr3[k]:\n",
    "\n",
    "                new_arr.append(arr1[i])\n",
    "\n",
    "                i+=1\n",
    "                j+=1\n",
    "                k+=1\n",
    "\n",
    "            elif arr1[i]<arr2[j]:\n",
    "                    i+=1\n",
    "\n",
    "            elif arr2[j]<arr3[k]:\n",
    "                    j+=1\n",
    "\n",
    "            else:\n",
    "                    k+=1    \n",
    "    return new_arr            \n"
   ]
  },
  {
   "cell_type": "code",
   "execution_count": 14,
   "id": "001fe62d",
   "metadata": {},
   "outputs": [
    {
     "data": {
      "text/plain": [
       "[1, 5]"
      ]
     },
     "execution_count": 14,
     "metadata": {},
     "output_type": "execute_result"
    }
   ],
   "source": [
    "common_elements(\n",
    "        arr1 = [1,2,3,4,5],\n",
    "        arr2 = [1,2,5,7,9],\n",
    "        arr3 = [1,3,4,5,8])"
   ]
  },
  {
   "cell_type": "markdown",
   "id": "ce45e4e4",
   "metadata": {},
   "source": [
    "## Question 2\n",
    "\n",
    "Given two **0-indexed** integer arrays nums1 and nums2, return *a list* answer *of size* 2 *where:*\n",
    "\n",
    "- answer[0] *is a list of all **distinct** integers in* nums1 *which are **not** present in* nums2*.*\n",
    "- answer[1] *is a list of all **distinct** integers in* nums2 *which are **not** present in* nums1.\n",
    "\n",
    "**Note** that the integers in the lists may be returned in **any** order.\n",
    "\n",
    "**Example 1:**\n",
    "\n",
    "**Input:** nums1 = [1,2,3], nums2 = [2,4,6]\n",
    "\n",
    "**Output:** [[1,3],[4,6]]\n",
    "\n",
    "**Explanation:**\n",
    "\n",
    "For nums1, nums1[1] = 2 is present at index 0 of nums2, whereas nums1[0] = 1 and nums1[2] = 3 are not present in nums2. Therefore, answer[0] = [1,3].\n",
    "\n",
    "For nums2, nums2[0] = 2 is present at index 1 of nums1, whereas nums2[1] = 4 and nums2[2] = 6 are not present in nums2. Therefore, answer[1] = [4,6].\n",
    "\n"
   ]
  },
  {
   "cell_type": "code",
   "execution_count": 19,
   "id": "a3a215db",
   "metadata": {},
   "outputs": [],
   "source": [
    "def distinct_num(nums1 , nums2):\n",
    "    \n",
    "    set1 = set(nums1)\n",
    "    set2 = set(nums2)\n",
    "    \n",
    "    distinct_nums_arr1 = list(set1 - set2)\n",
    "    distinct_nums_arr2 = list(set2 - set1)\n",
    "    \n",
    "    \n",
    "    return distinct_nums_arr1, distinct_nums_arr2"
   ]
  },
  {
   "cell_type": "code",
   "execution_count": 20,
   "id": "bb8fed0c",
   "metadata": {},
   "outputs": [
    {
     "data": {
      "text/plain": [
       "([1, 3], [4, 6])"
      ]
     },
     "execution_count": 20,
     "metadata": {},
     "output_type": "execute_result"
    }
   ],
   "source": [
    "distinct_num( [1,2,3],[2,4,6] )"
   ]
  },
  {
   "cell_type": "markdown",
   "id": "33136a24",
   "metadata": {},
   "source": [
    "## Question 3\n",
    "Given a 2D integer array matrix, return *the **transpose** of* matrix.\n",
    "\n",
    "The **transpose** of a matrix is the matrix flipped over its main diagonal, switching the matrix's row and column indices.\n",
    "\n",
    "**Example 1:**\n",
    "\n",
    "Input: matrix = [[1,2,3],[4,5,6],[7,8,9]]\n",
    "\n",
    "Output: [[1,4,7],[2,5,8],[3,6,9]]\n",
    "\n",
    "</aside>"
   ]
  },
  {
   "cell_type": "code",
   "execution_count": 1,
   "id": "30305de4",
   "metadata": {},
   "outputs": [],
   "source": [
    "def transpose(matrix):\n",
    "    rows=len(matrix)\n",
    "    cols=len(matrix[0])\n",
    "    \n",
    "    transpose_matrix= [[0]*rows for _ in range(cols)]\n",
    "\n",
    "    for i in range (rows):\n",
    "        for j in range(cols):\n",
    "            transpose_matrix[j][i]=matrix[i][j]\n",
    "    \n",
    "    return transpose_matrix\n",
    "    \n",
    "        "
   ]
  },
  {
   "cell_type": "code",
   "execution_count": 2,
   "id": "9e89a85a",
   "metadata": {},
   "outputs": [
    {
     "data": {
      "text/plain": [
       "[[1, 4, 7], [2, 5, 8], [3, 6, 9]]"
      ]
     },
     "execution_count": 2,
     "metadata": {},
     "output_type": "execute_result"
    }
   ],
   "source": [
    "transpose([[1,2,3],[4,5,6],[7,8,9]])"
   ]
  },
  {
   "cell_type": "markdown",
   "id": "7ce492eb",
   "metadata": {},
   "source": [
    "## Question 4\n",
    "Given an integer array nums of 2n integers, group these integers into n pairs (a1, b1), (a2, b2), ..., (an, bn) such that the sum of min(ai, bi) for all i is maximized. Return the maximized sum.\n"
   ]
  },
  {
   "cell_type": "code",
   "execution_count": 3,
   "id": "549bddea",
   "metadata": {},
   "outputs": [],
   "source": [
    " def arrayPairSum(nums):\n",
    "        \n",
    "        nums.sort()\n",
    "        max_sum=0\n",
    "        \n",
    "        for i in range(0,len(nums),2):\n",
    "            max_sum+=nums[i]\n",
    "        return max_sum\n",
    "    \n",
    "    "
   ]
  },
  {
   "cell_type": "code",
   "execution_count": 4,
   "id": "45ce20c6",
   "metadata": {},
   "outputs": [
    {
     "data": {
      "text/plain": [
       "4"
      ]
     },
     "execution_count": 4,
     "metadata": {},
     "output_type": "execute_result"
    }
   ],
   "source": [
    "arrayPairSum([1,4,3,2])"
   ]
  },
  {
   "cell_type": "markdown",
   "id": "7ed3745c",
   "metadata": {},
   "source": [
    "## Question 5\n",
    "You have n coins and you want to build a staircase with these coins. The staircase consists of k rows where the ith row has exactly i coins. The last row of the staircase may be incomplete.\n",
    "Given the integer n, return the number of complete rows of the staircase you will build.\n"
   ]
  },
  {
   "cell_type": "code",
   "execution_count": 7,
   "id": "f2384665",
   "metadata": {},
   "outputs": [],
   "source": [
    "def arrangeCoins(n):\n",
    "    left, right = 0, n\n",
    "\n",
    "    while left <= right:\n",
    "        mid = (left + right) // 2\n",
    "        total = (mid * (mid + 1)) // 2\n",
    "\n",
    "        if total == n:\n",
    "            return mid\n",
    "        elif total > n:\n",
    "            right = mid - 1\n",
    "        else:\n",
    "            left = mid + 1\n",
    "\n",
    "    return right\n",
    "\n"
   ]
  },
  {
   "cell_type": "code",
   "execution_count": 8,
   "id": "985d9e25",
   "metadata": {},
   "outputs": [
    {
     "name": "stdout",
     "output_type": "stream",
     "text": [
      "2\n"
     ]
    }
   ],
   "source": [
    "n = 5\n",
    "max_complete_rows = arrangeCoins(n)\n",
    "print(max_complete_rows)"
   ]
  },
  {
   "cell_type": "markdown",
   "id": "2766a162",
   "metadata": {},
   "source": [
    "## Question 6\n",
    "Given an integer array nums sorted in non-decreasing order, return an array of the squares of each number sorted in non-decreasing order.\n"
   ]
  },
  {
   "cell_type": "code",
   "execution_count": 9,
   "id": "3e99434a",
   "metadata": {},
   "outputs": [],
   "source": [
    "def sortedSquares(nums):\n",
    "    result = []\n",
    "\n",
    "    for num in nums:\n",
    "        result.append(num ** 2)\n",
    "\n",
    "    result.sort()\n",
    "\n",
    "    return result\n",
    "\n"
   ]
  },
  {
   "cell_type": "code",
   "execution_count": 10,
   "id": "b6ae0259",
   "metadata": {},
   "outputs": [
    {
     "name": "stdout",
     "output_type": "stream",
     "text": [
      "[0, 1, 9, 16, 100]\n"
     ]
    }
   ],
   "source": [
    "nums = [-4, -1, 0, 3, 10]\n",
    "sorted_nums = sortedSquares(nums)\n",
    "print(sorted_nums)\n"
   ]
  },
  {
   "cell_type": "markdown",
   "id": "09a91392",
   "metadata": {},
   "source": [
    "## Question 7\n",
    "\n",
    "You are given an m x n matrix M initialized with all 0's and an array of operations ops, where ops[i] = [ai, bi] means M[x][y] should be incremented by one for all 0 <= x < ai and 0 <= y < bi.\n",
    "Count and return the number of maximum integers in the matrix after performing all the operations"
   ]
  },
  {
   "cell_type": "code",
   "execution_count": 11,
   "id": "abc12c56",
   "metadata": {},
   "outputs": [],
   "source": [
    "from typing import List\n",
    "\n",
    "def maxCount(m: int, n: int, ops: List[List[int]]) -> int:\n",
    "    max_rows = m\n",
    "    max_cols = n\n",
    "    \n",
    "    for op in ops:\n",
    "        max_rows = min(max_rows, op[0])\n",
    "        max_cols = min(max_cols, op[1])\n",
    "    \n",
    "    return max_rows * max_cols\n"
   ]
  },
  {
   "cell_type": "code",
   "execution_count": 12,
   "id": "5080da82",
   "metadata": {},
   "outputs": [
    {
     "data": {
      "text/plain": [
       "4"
      ]
     },
     "execution_count": 12,
     "metadata": {},
     "output_type": "execute_result"
    }
   ],
   "source": [
    "maxCount(3,3,[[2,2],[3,3]])\n"
   ]
  },
  {
   "cell_type": "markdown",
   "id": "9ae9b84f",
   "metadata": {},
   "source": [
    "## Question 8\n",
    "\n",
    "Given the array nums consisting of 2n elements in the form [x1,x2,...,xn,y1,y2,...,yn].\n",
    "Return the array in the form [x1,y1,x2,y2,...,xn,yn].\n"
   ]
  },
  {
   "cell_type": "code",
   "execution_count": 13,
   "id": "5238b8d6",
   "metadata": {},
   "outputs": [],
   "source": [
    "def rearrangeArray(nums):\n",
    "    n = len(nums) // 2\n",
    "    result = []\n",
    "    \n",
    "    for i in range(n):\n",
    "        result.append(nums[i])\n",
    "        result.append(nums[i+n])\n",
    "    \n",
    "    return result\n"
   ]
  },
  {
   "cell_type": "code",
   "execution_count": 14,
   "id": "9c2c6256",
   "metadata": {},
   "outputs": [
    {
     "data": {
      "text/plain": [
       "[2, 3, 5, 4, 1, 7]"
      ]
     },
     "execution_count": 14,
     "metadata": {},
     "output_type": "execute_result"
    }
   ],
   "source": [
    "rearrangeArray([2,5,1,3,4,7])"
   ]
  },
  {
   "cell_type": "code",
   "execution_count": null,
   "id": "ac8d72dc",
   "metadata": {},
   "outputs": [],
   "source": []
  }
 ],
 "metadata": {
  "kernelspec": {
   "display_name": "Python 3 (ipykernel)",
   "language": "python",
   "name": "python3"
  },
  "language_info": {
   "codemirror_mode": {
    "name": "ipython",
    "version": 3
   },
   "file_extension": ".py",
   "mimetype": "text/x-python",
   "name": "python",
   "nbconvert_exporter": "python",
   "pygments_lexer": "ipython3",
   "version": "3.10.9"
  }
 },
 "nbformat": 4,
 "nbformat_minor": 5
}
